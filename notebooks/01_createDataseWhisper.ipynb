{
  "nbformat": 4,
  "nbformat_minor": 0,
  "metadata": {
    "colab": {
      "provenance": []
    },
    "kernelspec": {
      "name": "python3",
      "display_name": "Python 3"
    },
    "language_info": {
      "name": "python"
    },
    "accelerator": "GPU",
    "gpuClass": "standard"
  },
  "cells": [
    {
      "cell_type": "markdown",
      "source": [
        "# Codigo para extrer el texto de los videos\n",
        "Usando whisper se va a extraer el texto del video segementado en los tiempos donde se hace cada oracion para optener el dataset del buscador"
      ],
      "metadata": {
        "id": "bujRgmWVHptn"
      }
    },
    {
      "cell_type": "markdown",
      "source": [
        "## 01. Instalar dependencias\n",
        "Utilizaremos la libreria [Whisper](https://github.com/openai/whisper) instalada desde huggingface"
      ],
      "metadata": {
        "id": "tQ07KOqPH5yO"
      }
    },
    {
      "cell_type": "code",
      "execution_count": 1,
      "metadata": {
        "id": "eiuOpqKl7Vol"
      },
      "outputs": [],
      "source": [
        "%%capture\n",
        "!pip install git+https://github.com/openai/whisper.git\n",
        "!pip install jiwer"
      ]
    },
    {
      "cell_type": "markdown",
      "source": [
        "## 02. Importar librerias"
      ],
      "metadata": {
        "id": "buq1_92PH-kt"
      }
    },
    {
      "cell_type": "code",
      "source": [
        "import whisper\n",
        "import ffmpeg\n",
        "import pandas as pd\n",
        "from tqdm import tqdm"
      ],
      "metadata": {
        "id": "11G6goZD8bTK"
      },
      "execution_count": 43,
      "outputs": []
    },
    {
      "cell_type": "markdown",
      "source": [
        "# 03. Cargar el modelo\n",
        "Para este caso usaremos [Large-V2](https://huggingface.co/openai/whisper-large-v2) que esta en huggingface"
      ],
      "metadata": {
        "id": "ofAb94rvIDCN"
      }
    },
    {
      "cell_type": "code",
      "source": [
        "model=whisper.load_model(\"large-v2\")"
      ],
      "metadata": {
        "colab": {
          "base_uri": "https://localhost:8080/"
        },
        "id": "5iMZHMnv8fuK",
        "outputId": "9a5529d9-ce99-4bc0-e9f1-84f8367b8b38"
      },
      "execution_count": 3,
      "outputs": [
        {
          "output_type": "stream",
          "name": "stderr",
          "text": [
            "100%|██████████████████████████████████████| 2.87G/2.87G [00:25<00:00, 123MiB/s]\n"
          ]
        }
      ]
    },
    {
      "cell_type": "markdown",
      "source": [
        "#Lista Videos ejemplo"
      ],
      "metadata": {
        "id": "9k4Sg1d3IDr8"
      }
    },
    {
      "cell_type": "code",
      "source": [
        "listaVideos=[\"/content/drive/MyDrive/Projects/29.buscadorWhisper/Cotizador/Fase 1.5/Documentacion/Componentes modificables/Guia-Crear-modificar-Productos.mp4\",\n",
        "             \"/content/drive/MyDrive/Projects/29.buscadorWhisper/Cotizador/Fase 1.5/Documentacion/Componentes modificables/Guia-Modificacion-Estetica.mp4\",\n",
        "             \"/content/drive/MyDrive/Projects/29.buscadorWhisper/Cotizador/Fase 1.5/Documentacion/Deploy/Deploy-guide-Video.mp4\",\n",
        "             ]"
      ],
      "metadata": {
        "id": "3LCFWH54AYLf"
      },
      "execution_count": 44,
      "outputs": []
    },
    {
      "cell_type": "markdown",
      "source": [
        "# Extraccion del texto y creacion del dataset"
      ],
      "metadata": {
        "id": "gaass9hKIFR7"
      }
    },
    {
      "cell_type": "code",
      "source": [
        "df=pd.DataFrame({\"start\":[],\"end\":[],\"text\":[],\"url\":[],\"name\":[]})\n",
        "for listas in tqdm(listaVideos):\n",
        "  result = model.transcribe(listas)\n",
        "  dftemp=pd.json_normalize(result[\"segments\"])[[\"start\",\"end\",\"text\"]]  \n",
        "  dftemp[\"url\"]=dftemp[\"url\"]=listas\n",
        "  dftemp[\"name\"]=dftemp[\"name\"]=listas.split(\"/\")[-1][:-4]\n",
        "  df=pd.concat([df,dftemp])\n"
      ],
      "metadata": {
        "colab": {
          "base_uri": "https://localhost:8080/"
        },
        "id": "qQaMnhNBAewt",
        "outputId": "ee0cacb1-ce80-4e03-bcbb-c79e8f29cc31"
      },
      "execution_count": 45,
      "outputs": [
        {
          "output_type": "stream",
          "name": "stderr",
          "text": [
            "100%|██████████| 3/3 [17:05<00:00, 341.72s/it]\n"
          ]
        }
      ]
    },
    {
      "cell_type": "markdown",
      "source": [
        "# Exportar dataset"
      ],
      "metadata": {
        "id": "yel_ruJmIF9_"
      }
    },
    {
      "cell_type": "code",
      "source": [
        "df.to_csv(\"datasetVideos.csv\")\n",
        "df.to_parquet(\"datasetVideos.parquet\")\n",
        "df.to_pickle(\"datasetVideos.pkl\")"
      ],
      "metadata": {
        "id": "K5pXzPwP-S0e"
      },
      "execution_count": 48,
      "outputs": []
    }
  ]
}